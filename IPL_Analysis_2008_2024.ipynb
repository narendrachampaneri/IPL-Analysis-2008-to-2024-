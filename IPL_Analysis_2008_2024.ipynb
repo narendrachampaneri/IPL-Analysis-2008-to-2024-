
{
 "cells": [
  {
   "cell_type": "markdown",
   "metadata": {},
   "source": [
    "# IPL 2008–2024 Analysis Project"
   ]
  },
  {
   "cell_type": "code",
   "execution_count": null,
   "metadata": {},
   "outputs": [],
   "source": [
    "# 1. Imports & Data Loading\n",
    "import pandas as pd\n",
    "import numpy as np\n",
    "import matplotlib.pyplot as plt\n",
    "import seaborn as sns\n",
    "\n",
    "# Settings for plots\n",
    "sns.set(style=\"darkgrid\")\n",
    "plt.rcParams['figure.figsize'] = (12, 6)\n",
    "\n",
    "# Load datasets\n",
    "matches = pd.read_csv('matches.csv')\n",
    "deliveries = pd.read_csv('deliveries.csv')\n",
    "\n",
    "# Display first few rows\n",
    "print(\"Matches dataset:\")\n",
    "display(matches.head())\n",
    "print(\"Deliveries dataset:\")\n",
    "display(deliveries.head())"
   ]
  },
  {
   "cell_type": "code",
   "execution_count": null,
   "metadata": {},
   "outputs": [],
   "source": [
    "# 2. Data Cleaning\n",
    "print(\"Missing values in matches:\")\n",
    "print(matches.isnull().sum())\n",
    "print(\"Missing values in deliveries:\")\n",
    "print(deliveries.isnull().sum())\n",
    "\n",
    "# Convert date column\n",
    "matches['date'] = pd.to_datetime(matches['date'])"
   ]
  },
  {
   "cell_type": "code",
   "execution_count": null,
   "metadata": {},
   "outputs": [],
   "source": [
    "# 3. Match Analysis\n",
    "# Head-to-Head\n",
    "head_to_head = matches.groupby(['team1', 'team2'])['winner'].value_counts().unstack(fill_value=0)\n",
    "\n",
    "# Recent Form\n",
    "recent_form = matches.sort_values(by='date').groupby('team1').tail(5)"
   ]
  },
  {
   "cell_type": "code",
   "execution_count": null,
   "metadata": {},
   "outputs": [],
   "source": [
    "# 4. Team Analysis\n",
    "team_wins = matches['winner'].value_counts()\n",
    "sns.barplot(x=team_wins.values, y=team_wins.index)\n",
    "plt.title('Total Wins by Teams')\n",
    "plt.xlabel('Wins')\n",
    "plt.ylabel('Teams')\n",
    "plt.show()"
   ]
  },
  {
   "cell_type": "code",
   "execution_count": null,
   "metadata": {},
   "outputs": [],
   "source": [
    "# 5. Player Analysis\n",
    "top_batsmen = deliveries.groupby('batsman')['batsman_runs'].sum().sort_values(ascending=False).head(10)\n",
    "sns.barplot(x=top_batsmen.values, y=top_batsmen.index)\n",
    "plt.title('Top 10 Run Scorers')\n",
    "plt.xlabel('Runs')\n",
    "plt.ylabel('Batsmen')\n",
    "plt.show()\n",
    "\n",
    "wickets = deliveries[deliveries['dismissal_kind'].notnull()]\n",
    "top_bowlers = wickets['bowler'].value_counts().head(10)\n",
    "sns.barplot(x=top_bowlers.values, y=top_bowlers.index)\n",
    "plt.title('Top 10 Wicket Takers')\n",
    "plt.xlabel('Wickets')\n",
    "plt.ylabel('Bowlers')\n",
    "plt.show()"
   ]
  },
  {
   "cell_type": "code",
   "execution_count": null,
   "metadata": {},
   "outputs": [],
   "source": [
    "# 6. Run Rate by Phase\n",
    "conditions = [\n",
    "    (deliveries['over'] <= 6),\n",
    "    (deliveries['over'] > 6) & (deliveries['over'] <= 15),\n",
    "    (deliveries['over'] > 15)\n",
    "]\n",
    "choices = ['Powerplay', 'Middle Overs', 'Death Overs']\n",
    "deliveries['phase'] = np.select(conditions, choices)\n",
    "phase_runrate = deliveries.groupby('phase')['total_runs'].mean()\n",
    "sns.barplot(x=phase_runrate.index, y=phase_runrate.values)\n",
    "plt.title('Average Run Rate by Phase')\n",
    "plt.xlabel('Match Phase')\n",
    "plt.ylabel('Avg Runs per Over')\n",
    "plt.show()"
   ]
  }
 ],
 "metadata": {
  "kernelspec": {
   "display_name": "Python 3",
   "language": "python",
   "name": "python3"
  },
  "language_info": {
   "name": "python"
  }
 },
 "nbformat": 4,
 "nbformat_minor": 2
}
